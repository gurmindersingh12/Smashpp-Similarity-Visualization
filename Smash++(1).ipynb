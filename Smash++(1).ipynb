{
  "nbformat": 4,
  "nbformat_minor": 0,
  "metadata": {
    "colab": {
      "provenance": []
    },
    "kernelspec": {
      "name": "python3",
      "display_name": "Python 3"
    },
    "language_info": {
      "name": "python"
    }
  },
  "cells": [
    {
      "cell_type": "markdown",
      "source": [
        "### Installing Dependencies\n",
        "This section installs necessary dependencies such as Git, CMake, and G++ to run Smash++.\n"
      ],
      "metadata": {
        "id": "BKrYP54mfBXL"
      }
    },
    {
      "cell_type": "code",
      "source": [
        "# Update and install required system dependencies\n",
        "!apt update && apt install -y git cmake g++ make\n"
      ],
      "metadata": {
        "colab": {
          "base_uri": "https://localhost:8080/"
        },
        "id": "jmBPQfExfol8",
        "outputId": "b617947c-d23d-4ac9-d23a-2a8a536618e8"
      },
      "execution_count": null,
      "outputs": [
        {
          "output_type": "stream",
          "name": "stdout",
          "text": [
            "\u001b[33m\r0% [Working]\u001b[0m\r            \rGet:1 https://cloud.r-project.org/bin/linux/ubuntu jammy-cran40/ InRelease [3,626 B]\n",
            "\u001b[33m\r0% [Connecting to archive.ubuntu.com (185.125.190.81)] [Waiting for headers] [1 InRelease 0 B/3,626 \u001b[0m\u001b[33m\r0% [Connecting to archive.ubuntu.com (185.125.190.81)] [Waiting for headers] [Connected to r2u.stat.\u001b[0m\r                                                                                                    \rGet:2 http://security.ubuntu.com/ubuntu jammy-security InRelease [129 kB]\n",
            "Get:3 https://developer.download.nvidia.com/compute/cuda/repos/ubuntu2204/x86_64  InRelease [1,581 B]\n",
            "Ign:4 https://r2u.stat.illinois.edu/ubuntu jammy InRelease\n",
            "Get:5 https://r2u.stat.illinois.edu/ubuntu jammy Release [5,713 B]\n",
            "Hit:6 http://archive.ubuntu.com/ubuntu jammy InRelease\n",
            "Get:7 https://r2u.stat.illinois.edu/ubuntu jammy Release.gpg [793 B]\n",
            "Get:8 http://archive.ubuntu.com/ubuntu jammy-updates InRelease [128 kB]\n",
            "Get:9 https://developer.download.nvidia.com/compute/cuda/repos/ubuntu2204/x86_64  Packages [1,091 kB]\n",
            "Hit:10 https://ppa.launchpadcontent.net/deadsnakes/ppa/ubuntu jammy InRelease\n",
            "Hit:11 https://ppa.launchpadcontent.net/graphics-drivers/ppa/ubuntu jammy InRelease\n",
            "Hit:12 https://ppa.launchpadcontent.net/ubuntugis/ppa/ubuntu jammy InRelease\n",
            "Get:13 http://archive.ubuntu.com/ubuntu jammy-backports InRelease [127 kB]\n",
            "Get:14 http://security.ubuntu.com/ubuntu jammy-security/main amd64 Packages [2,378 kB]\n",
            "Get:15 http://security.ubuntu.com/ubuntu jammy-security/universe amd64 Packages [1,162 kB]\n",
            "Get:16 https://r2u.stat.illinois.edu/ubuntu jammy/main all Packages [8,432 kB]\n",
            "Get:17 https://r2u.stat.illinois.edu/ubuntu jammy/main amd64 Packages [2,606 kB]\n",
            "Get:18 http://archive.ubuntu.com/ubuntu jammy-updates/universe amd64 Packages [1,450 kB]\n",
            "Get:19 http://archive.ubuntu.com/ubuntu jammy-updates/restricted amd64 Packages [3,305 kB]\n",
            "Get:20 http://archive.ubuntu.com/ubuntu jammy-updates/main amd64 Packages [2,665 kB]\n",
            "Fetched 23.5 MB in 8s (3,117 kB/s)\n",
            "Reading package lists... Done\n",
            "Building dependency tree... Done\n",
            "Reading state information... Done\n",
            "50 packages can be upgraded. Run 'apt list --upgradable' to see them.\n",
            "\u001b[1;33mW: \u001b[0mSkipping acquire of configured file 'main/source/Sources' as repository 'https://r2u.stat.illinois.edu/ubuntu jammy InRelease' does not seem to provide it (sources.list entry misspelt?)\u001b[0m\n",
            "Reading package lists... Done\n",
            "Building dependency tree... Done\n",
            "Reading state information... Done\n",
            "g++ is already the newest version (4:11.2.0-1ubuntu1).\n",
            "g++ set to manually installed.\n",
            "make is already the newest version (4.3-4.1build1).\n",
            "make set to manually installed.\n",
            "cmake is already the newest version (3.22.1-1ubuntu1.22.04.2).\n",
            "git is already the newest version (1:2.34.1-1ubuntu1.11).\n",
            "0 upgraded, 0 newly installed, 0 to remove and 50 not upgraded.\n"
          ]
        }
      ]
    },
    {
      "cell_type": "code",
      "source": [
        "# Clone the Smash++ repository\n",
        "!git clone --depth 1 https://github.com/smortezah/smashpp.git\n"
      ],
      "metadata": {
        "colab": {
          "base_uri": "https://localhost:8080/"
        },
        "id": "xBzZx8zmf54i",
        "outputId": "292e82eb-f1a1-454b-938e-58155fe41c35"
      },
      "execution_count": null,
      "outputs": [
        {
          "output_type": "stream",
          "name": "stdout",
          "text": [
            "fatal: destination path 'smashpp' already exists and is not an empty directory.\n"
          ]
        }
      ]
    },
    {
      "cell_type": "code",
      "source": [
        "# Navigate to the smashpp directory\n",
        "%cd smashpp\n",
        "\n",
        "# Run the install.sh script to build smashpp\n",
        "!bash install.sh\n"
      ],
      "metadata": {
        "colab": {
          "base_uri": "https://localhost:8080/"
        },
        "id": "6lZYtDgXf930",
        "outputId": "4971c206-08f9-46cb-b8b5-2d1679317dc3"
      },
      "execution_count": null,
      "outputs": [
        {
          "output_type": "stream",
          "name": "stdout",
          "text": [
            "[Errno 20] Not a directory: 'smashpp'\n",
            "/content/smashpp\n",
            "-- The CXX compiler identification is GNU 11.4.0\n",
            "-- Detecting CXX compiler ABI info\n",
            "-- Detecting CXX compiler ABI info - done\n",
            "-- Check for working CXX compiler: /usr/bin/c++ - skipped\n",
            "-- Detecting CXX compile features\n",
            "-- Detecting CXX compile features - done\n",
            "-- Found OpenMP_CXX: -fopenmp (found version \"4.5\")\n",
            "-- Found OpenMP: TRUE (found version \"4.5\")\n",
            "-- Configuring done (0.4s)\n",
            "-- Generating done (0.0s)\n",
            "-- Build files have been written to: /content/smashpp/build\n",
            "[  5%] \u001b[32mBuilding CXX object CMakeFiles/exclude_N.dir/src/excludeN.cpp.o\u001b[0m\n",
            "[ 11%] \u001b[32mBuilding CXX object CMakeFiles/smashpp.dir/src/par.cpp.o\u001b[0m\n",
            "[ 16%] \u001b[32mBuilding CXX object CMakeFiles/smashpp.dir/src/cmls4.cpp.o\u001b[0m\n",
            "[ 22%] \u001b[32mBuilding CXX object CMakeFiles/smashpp-inv-rep.dir/src/invRep.cpp.o\u001b[0m\n",
            "[ 27%] \u001b[32mBuilding CXX object CMakeFiles/smashpp.dir/src/fcm.cpp.o\u001b[0m\n",
            "[ 33%] \u001b[32mBuilding CXX object CMakeFiles/smashpp.dir/src/tbl32.cpp.o\u001b[0m\n",
            "[ 38%] \u001b[32mBuilding CXX object CMakeFiles/smashpp.dir/src/tbl64.cpp.o\u001b[0m\n",
            "[ 44%] \u001b[32mBuilding CXX object CMakeFiles/smashpp.dir/src/logtbl8.cpp.o\u001b[0m\n",
            "[ 50%] \u001b[32m\u001b[1mLinking CXX executable smashpp-inv-rep\u001b[0m\n",
            "[ 50%] Built target smashpp-inv-rep\n",
            "[ 55%] \u001b[32mBuilding CXX object CMakeFiles/smashpp.dir/src/filter.cpp.o\u001b[0m\n",
            "[ 61%] \u001b[32m\u001b[1mLinking CXX executable exclude_N\u001b[0m\n",
            "[ 61%] Built target exclude_N\n",
            "[ 66%] \u001b[32mBuilding CXX object CMakeFiles/smashpp.dir/src/segment.cpp.o\u001b[0m\n",
            "[ 72%] \u001b[32mBuilding CXX object CMakeFiles/smashpp.dir/src/output.cpp.o\u001b[0m\n",
            "[ 77%] \u001b[32mBuilding CXX object CMakeFiles/smashpp.dir/src/color.cpp.o\u001b[0m\n",
            "[ 83%] \u001b[32mBuilding CXX object CMakeFiles/smashpp.dir/src/svg.cpp.o\u001b[0m\n",
            "[ 88%] \u001b[32mBuilding CXX object CMakeFiles/smashpp.dir/src/vizpaint.cpp.o\u001b[0m\n",
            "[ 94%] \u001b[32mBuilding CXX object CMakeFiles/smashpp.dir/src/main.cpp.o\u001b[0m\n",
            "[100%] \u001b[32m\u001b[1mLinking CXX executable smashpp\u001b[0m\n",
            "[100%] Built target smashpp\n"
          ]
        }
      ]
    },
    {
      "cell_type": "code",
      "source": [
        "from google.colab import files\n",
        "\n",
        "# Upload your input FASTA files\n",
        "uploaded = files.upload()\n"
      ],
      "metadata": {
        "id": "sCPB6DGHgK3C"
      },
      "execution_count": null,
      "outputs": []
    },
    {
      "cell_type": "code",
      "source": [
        "!./smashpp --version\n"
      ],
      "metadata": {
        "id": "Y9V7CL2xkqTp"
      },
      "execution_count": null,
      "outputs": []
    },
    {
      "cell_type": "code",
      "source": [
        "# Run smashpp to generate the position file (.json or .pos format)\n",
        "!./smashpp -r OUH602-8Mbp-11Mbp-chr2H.txt -t HarunaNijo-8Mbp-11Mbp-chr2H.txt --min-block-size 1 --format json\n"
      ],
      "metadata": {
        "colab": {
          "base_uri": "https://localhost:8080/"
        },
        "id": "MavCycjZgM2c",
        "outputId": "3e2bbfdd-265d-4367-c56a-4c20bbc85560"
      },
      "execution_count": null,
      "outputs": [
        {
          "output_type": "stream",
          "name": "stdout",
          "text": [
            "\u001b[1m====[ PREPARE DATA ]==================================\n",
            "\u001b[0m[+] \u001b[3mOUH602-8Mbp-11Mbp-chr2H.txt\u001b[0m (FASTA) -> \u001b[3mOUH602-8Mbp-11Mbp-chr2H.seq\u001b[0m (seq) ...\r[+] \u001b[3mOUH602-8Mbp-11Mbp-chr2H.txt\u001b[0m (FASTA) -> \u001b[3mOUH602-8Mbp-11Mbp-chr2H.seq\u001b[0m (seq) finished.\n",
            "[+] \u001b[3mHarunaNijo-8Mbp-11Mbp-chr2H.txt\u001b[0m (FASTA) -> \u001b[3mHarunaNijo-8Mbp-11Mbp-chr2H.seq\u001b[0m (seq) ...\r[+] \u001b[3mHarunaNijo-8Mbp-11Mbp-chr2H.txt\u001b[0m (FASTA) -> \u001b[3mHarunaNijo-8Mbp-11Mbp-chr2H.seq\u001b[0m (seq) finished.\n",
            "\n",
            "\u001b[1m====[ REGULAR MODE ]==================================\n",
            "[+] Creating model of \u001b[3mOUH602-8Mbp-11Mbp-chr2H.txt\u001b[0m done.\n",
            "[+] Filtering \u001b[3mHarunaNijo-8Mbp-11Mbp-chr2H.txt\u001b[0m done => 17 segments\n",
            "[+] Ref-free compression of all segments done.         \n",
            "[+] Repeating above process for all segments done.\n",
            "\n",
            "\u001b[1m====[ INVERTED MODE ]=================================\n",
            "[+] Creating model of \u001b[3mOUH602-8Mbp-11Mbp-chr2H.txt\u001b[0m done.\n",
            "[+] Filtering \u001b[3mHarunaNijo-8Mbp-11Mbp-chr2H.txt\u001b[0m done => 0 segments\n",
            "\n",
            "Total time: 2:1 min:sec.\n"
          ]
        }
      ]
    },
    {
      "cell_type": "code",
      "source": [
        "# List the files to check if the .json file is created\n",
        "!ls\n"
      ],
      "metadata": {
        "colab": {
          "base_uri": "https://localhost:8080/"
        },
        "id": "oQD_dwMIhcpu",
        "outputId": "6cf21998-d523-4daf-b86b-311d743d1478"
      },
      "execution_count": null,
      "outputs": [
        {
          "output_type": "stream",
          "name": "stdout",
          "text": [
            "sample_data\n"
          ]
        }
      ]
    },
    {
      "cell_type": "code",
      "source": [
        "# Display the first 20 lines of the .json file to inspect its content\n",
        "!head -n 20 OUH602-8Mbp-11Mbp-chr2H.txt.HarunaNijo-8Mbp-11Mbp-chr2H.txt.json\n"
      ],
      "metadata": {
        "colab": {
          "base_uri": "https://localhost:8080/"
        },
        "id": "5nJUu-WPt7Su",
        "outputId": "c573641c-a628-4df6-ff28-a50a43bcc9ed"
      },
      "execution_count": null,
      "outputs": [
        {
          "output_type": "stream",
          "name": "stdout",
          "text": [
            "{\n",
            "    \"watermark\": \"##SMASH++\",\n",
            "    \"parameters\": \"-r OUH602-8Mbp-11Mbp-chr2H.txt -t HarunaNijo-8Mbp-11Mbp-chr2H.txt --min-block-size 1 --format json\",\n",
            "    \"reference\": \"OUH602-8Mbp-11Mbp-chr2H.txt\",\n",
            "    \"reference_size\": \"3085752\",\n",
            "    \"target\": \"HarunaNijo-8Mbp-11Mbp-chr2H.txt\",\n",
            "    \"target_size\": \"3085756>\",\n",
            "    \"positions\": [\n",
            "        {\n",
            "            \"reference_begin\": \"328158\",\n",
            "            \"reference_end\": \"394902\",\n",
            "            \"reference_relative_redundancy\": \"1.3580\",\n",
            "            \"reference_redundancy\": \"1.9848\",\n",
            "            \"target_begin\": \"136578\",\n",
            "            \"target_end\": \"224952\",\n",
            "            \"target_relative_redundancy\": \"1.2610\",\n",
            "            \"target_redundancy\": \"1.9906\",\n",
            "            \"inverted\": \"F\"\n",
            "        }\n",
            "    ]\n"
          ]
        }
      ]
    },
    {
      "cell_type": "code",
      "source": [
        "# Delete a specific file in the /content folder\n",
        "# !rm 'HarunaNijo-8Mbp-11Mbp-chr2H (1).txt'\n",
        "\n",
        "# !rm 'OUH602-8Mbp-11Mbp-chr2H (1).txt'\n"
      ],
      "metadata": {
        "colab": {
          "base_uri": "https://localhost:8080/"
        },
        "id": "0QzxIQvvrhRC",
        "outputId": "ae55addd-b385-485c-984b-9e9848321746"
      },
      "execution_count": null,
      "outputs": [
        {
          "output_type": "stream",
          "name": "stdout",
          "text": [
            "rm: cannot remove 'HarunaNijo-8Mbp-11Mbp-chr2H (1).txt': No such file or directory\n"
          ]
        }
      ]
    },
    {
      "cell_type": "code",
      "source": [
        "# Generate an SVG file using the visualizer\n",
        "!./smashpp viz --output similarity.svg OUH602-8Mbp-11Mbp-chr2H.txt.HarunaNijo-8Mbp-11Mbp-chr2H.txt.json\n",
        "\n",
        "# !./smashpp viz --min-block-size 1 --verbose --total-colors 10 --output similarity.svg OUH602-8Mbp-11Mbp-chr2H.txt.HarunaNijo-8Mbp-11Mbp-chr2H.txt.json"
      ],
      "metadata": {
        "colab": {
          "base_uri": "https://localhost:8080/"
        },
        "id": "lcTpPl_IgWUA",
        "outputId": "d828d367-6789-4e80-d79a-1bd669725747"
      },
      "execution_count": null,
      "outputs": [
        {
          "output_type": "stream",
          "name": "stdout",
          "text": [
            "~~~~~~~~~~~~~~~~~~~~~~~~~~~~~~~~~~~~~~~~~~~~~~~~~~\n",
            "Sequence image    \n",
            "~~~~~~~~~~~~~~~~~~~~~~~~~~~~~~~~~~~~~~~~~~~~~~~~~~\n",
            "Width             10      \n",
            "Space             40      \n",
            "Multiplication    0       \n",
            "Begin             0       \n",
            "Minimum           1       \n",
            "Show regular      yes     \n",
            "Show inversions   yes     \n",
            "Link type         1       \n",
            "                                                  \n",
            "~~~~~~~~~~~~~~~~~~~~~~~~~~~~~~~~~~~~~~~~~~~~~~~~~~\n",
            "Files             Name            Size (B)        \n",
            "~~~~~~~~~~~~~~~~~~~~~~~~~~~~~~~~~~~~~~~~~~~~~~~~~~\n",
            "Reference         OUH602-8Mbp-11Mbp-chr2H.txt3085752         \n",
            "Target            HarunaNijo-8Mbp-11Mbp-chr2H.txt3085756         \n",
            "Image             similarity.svg  -               \n",
            "                                                  \n",
            "Plotting ...\rPlotting finished.\n",
            "Found 1 regular region.\n",
            "\n",
            "Total time: 0 sec.\n"
          ]
        }
      ]
    },
    {
      "cell_type": "code",
      "source": [
        "# Download the SVG File\n",
        "\n",
        "from google.colab import files\n",
        "\n",
        "# Download the generated SVG file\n",
        "files.download('similarity.svg')\n"
      ],
      "metadata": {
        "colab": {
          "base_uri": "https://localhost:8080/",
          "height": 17
        },
        "id": "zrDGKq7sgZBj",
        "outputId": "f2846452-a907-4087-cd66-95f9672adca7"
      },
      "execution_count": null,
      "outputs": [
        {
          "output_type": "display_data",
          "data": {
            "text/plain": [
              "<IPython.core.display.Javascript object>"
            ],
            "application/javascript": [
              "\n",
              "    async function download(id, filename, size) {\n",
              "      if (!google.colab.kernel.accessAllowed) {\n",
              "        return;\n",
              "      }\n",
              "      const div = document.createElement('div');\n",
              "      const label = document.createElement('label');\n",
              "      label.textContent = `Downloading \"${filename}\": `;\n",
              "      div.appendChild(label);\n",
              "      const progress = document.createElement('progress');\n",
              "      progress.max = size;\n",
              "      div.appendChild(progress);\n",
              "      document.body.appendChild(div);\n",
              "\n",
              "      const buffers = [];\n",
              "      let downloaded = 0;\n",
              "\n",
              "      const channel = await google.colab.kernel.comms.open(id);\n",
              "      // Send a message to notify the kernel that we're ready.\n",
              "      channel.send({})\n",
              "\n",
              "      for await (const message of channel.messages) {\n",
              "        // Send a message to notify the kernel that we're ready.\n",
              "        channel.send({})\n",
              "        if (message.buffers) {\n",
              "          for (const buffer of message.buffers) {\n",
              "            buffers.push(buffer);\n",
              "            downloaded += buffer.byteLength;\n",
              "            progress.value = downloaded;\n",
              "          }\n",
              "        }\n",
              "      }\n",
              "      const blob = new Blob(buffers, {type: 'application/binary'});\n",
              "      const a = document.createElement('a');\n",
              "      a.href = window.URL.createObjectURL(blob);\n",
              "      a.download = filename;\n",
              "      div.appendChild(a);\n",
              "      a.click();\n",
              "      div.remove();\n",
              "    }\n",
              "  "
            ]
          },
          "metadata": {}
        },
        {
          "output_type": "display_data",
          "data": {
            "text/plain": [
              "<IPython.core.display.Javascript object>"
            ],
            "application/javascript": [
              "download(\"download_95039a2e-0914-4b70-8986-b1fd977b9927\", \"similarity.svg\", 26774)"
            ]
          },
          "metadata": {}
        }
      ]
    }
  ]
}